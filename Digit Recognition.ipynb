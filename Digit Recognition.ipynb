{
 "cells": [
  {
   "cell_type": "code",
   "execution_count": 1,
   "metadata": {},
   "outputs": [],
   "source": [
    "import numpy as np \n",
    "import matplotlib.pyplot as plt\n",
    "\n",
    "import keras \n",
    "\n",
    "from keras.datasets import mnist\n",
    "\n",
    "from keras.models import Sequential\n",
    "from keras.layers import Dense, Conv2D, MaxPool2D, Flatten, Dropout"
   ]
  },
  {
   "cell_type": "markdown",
   "metadata": {},
   "source": [
    "GET THE DATA\n"
   ]
  },
  {
   "cell_type": "code",
   "execution_count": 2,
   "metadata": {},
   "outputs": [
    {
     "data": {
      "text/plain": [
       "((60000, 28, 28), (60000,), (60000, 28, 28), (10000,))"
      ]
     },
     "execution_count": 2,
     "metadata": {},
     "output_type": "execute_result"
    }
   ],
   "source": [
    "(X_train, y_train), (X_test, y_test) = mnist.load_data()\n",
    "\n",
    "X_train.shape , y_train.shape , X_train.shape , y_test.shape\n"
   ]
  },
  {
   "cell_type": "code",
   "execution_count": 3,
   "metadata": {},
   "outputs": [],
   "source": [
    "def plot_input_img(i):\n",
    "    plt.imshow(X_train[i] , cmap= 'binary' )\n",
    "    plt.title(y_train[i])\n",
    "    plt.show()\n",
    "\n"
   ]
  },
  {
   "cell_type": "code",
   "execution_count": null,
   "metadata": {},
   "outputs": [],
   "source": [
    "for i in range(10):\n",
    "    plot_input_img(i)"
   ]
  },
  {
   "cell_type": "markdown",
   "metadata": {},
   "source": [
    "PRE PROCESSING"
   ]
  },
  {
   "cell_type": "code",
   "execution_count": 5,
   "metadata": {},
   "outputs": [],
   "source": [
    "#Normalising\n",
    "X_train = X_train.astype(np.float32)/255\n",
    "X_test = X_test.astype(np.float32)/255\n",
    "\n",
    "#Reshaping\n",
    "X_train = np.expand_dims(X_train, -1)\n",
    "X_test = np.expand_dims(X_test, -1)\n",
    "\n",
    "#Converting to vector\n",
    "\n",
    "y_train = keras.utils.to_categorical(y_train)\n",
    "\n",
    "y_test = keras.utils.to_categorical(y_test)\n"
   ]
  },
  {
   "cell_type": "markdown",
   "metadata": {},
   "source": []
  },
  {
   "cell_type": "code",
   "execution_count": 6,
   "metadata": {},
   "outputs": [],
   "source": [
    "model = Sequential()\n",
    "\n",
    "model.add(Conv2D(32, (3,3), input_shape = (28,28,1), activation= 'relu'))\n",
    "model.add(MaxPool2D((2,2)))\n",
    "\n",
    "model.add(Conv2D(64, (3,3) , activation= 'relu'))\n",
    "model.add(MaxPool2D((2,2)))\n",
    "\n",
    "model.add(Flatten())\n",
    "\n",
    "model.add(Dense(10, activation=\"softmax\"))\n"
   ]
  },
  {
   "cell_type": "code",
   "execution_count": null,
   "metadata": {},
   "outputs": [],
   "source": [
    "model.summary()"
   ]
  },
  {
   "cell_type": "code",
   "execution_count": 8,
   "metadata": {},
   "outputs": [],
   "source": [
    "model.compile(optimizer= 'adam', loss = keras.losses.categorical_crossentropy, metrics=['accuracy'])"
   ]
  },
  {
   "cell_type": "code",
   "execution_count": 9,
   "metadata": {},
   "outputs": [],
   "source": [
    "#CALLBACKS\n",
    "\n",
    "from keras.callbacks import EarlyStopping, ModelCheckpoint\n",
    "\n",
    "#EARLYSTOPPING\n",
    "\n",
    "es = EarlyStopping(monitor='val_accuracy', min_delta= 0.01, patience= 4, verbose= 1)\n",
    "\n",
    "#CP\n",
    "\n",
    "mc = ModelCheckpoint(\"./bestmodel.h5\", monitor= \"val_accuracy\", verbose= 1, save_best_only= True)\n",
    "\n",
    "cb = [es,mc]"
   ]
  },
  {
   "cell_type": "markdown",
   "metadata": {},
   "source": [
    "Model Training\n"
   ]
  },
  {
   "cell_type": "code",
   "execution_count": 11,
   "metadata": {},
   "outputs": [
    {
     "name": "stdout",
     "output_type": "stream",
     "text": [
      "Epoch 1/2\n",
      "1308/1313 [============================>.] - ETA: 0s - loss: 0.0630 - accuracy: 0.9813\n",
      "Epoch 00001: val_accuracy improved from -inf to 0.97956, saving model to .\\bestmodel.h5\n",
      "1313/1313 [==============================] - 13s 10ms/step - loss: 0.0628 - accuracy: 0.9813 - val_loss: 0.0664 - val_accuracy: 0.9796\n",
      "Epoch 2/2\n",
      "1312/1313 [============================>.] - ETA: 0s - loss: 0.0460 - accuracy: 0.9860\n",
      "Epoch 00002: val_accuracy improved from 0.97956 to 0.98411, saving model to .\\bestmodel.h5\n",
      "1313/1313 [==============================] - 13s 10ms/step - loss: 0.0460 - accuracy: 0.9860 - val_loss: 0.0519 - val_accuracy: 0.9841\n"
     ]
    }
   ],
   "source": [
    "his = model.fit(X_train, y_train, epochs = 2, validation_split = 0.3, callbacks = cb)"
   ]
  },
  {
   "cell_type": "code",
   "execution_count": 12,
   "metadata": {},
   "outputs": [],
   "source": [
    "model_S = keras.models.load_model(\"C://Users//singh//OneDrive//Desktop//bestmodel.h5\")"
   ]
  },
  {
   "cell_type": "code",
   "execution_count": 13,
   "metadata": {},
   "outputs": [
    {
     "name": "stdout",
     "output_type": "stream",
     "text": [
      "313/313 [==============================] - 1s 3ms/step - loss: 0.0399 - accuracy: 0.9875\n",
      "The model accuracy is 0.987500011920929 \n"
     ]
    }
   ],
   "source": [
    "score = model_S.evaluate(X_test, y_test)\n",
    "\n",
    "print(f\"The model accuracy is {score[1]} \")"
   ]
  }
 ],
 "metadata": {
  "interpreter": {
   "hash": "29787af60b9aa2af4a008070464442b92a0b0ffc0b4ee195e3bcba8cc66d2736"
  },
  "kernelspec": {
   "display_name": "Python 3.8.8 64-bit ('base': conda)",
   "name": "python3"
  },
  "language_info": {
   "codemirror_mode": {
    "name": "ipython",
    "version": 3
   },
   "file_extension": ".py",
   "mimetype": "text/x-python",
   "name": "python",
   "nbconvert_exporter": "python",
   "pygments_lexer": "ipython3",
   "version": "3.8.8"
  },
  "orig_nbformat": 4
 },
 "nbformat": 4,
 "nbformat_minor": 2
}
